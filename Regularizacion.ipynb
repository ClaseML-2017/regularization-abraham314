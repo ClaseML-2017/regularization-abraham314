{
 "cells": [
  {
   "cell_type": "code",
   "execution_count": 2,
   "metadata": {
    "collapsed": false
   },
   "outputs": [],
   "source": [
    "import numpy as np\n",
    "import pandas as pd\n",
    "import random as rnd\n",
    "from sklearn.cross_validation import train_test_split\n",
    "from sklearn.metrics import confusion_matrix\n",
    "from sklearn import linear_model\n",
    "from scipy.stats import *\n",
    "from sklearn import preprocessing \n",
    "import matplotlib.pyplot as plt \n",
    "%matplotlib inline "
   ]
  },
  {
   "cell_type": "code",
   "execution_count": 165,
   "metadata": {
    "collapsed": false
   },
   "outputs": [
    {
     "data": {
      "text/html": [
       "<div>\n",
       "<table border=\"1\" class=\"dataframe\">\n",
       "  <thead>\n",
       "    <tr style=\"text-align: right;\">\n",
       "      <th></th>\n",
       "      <th>X</th>\n",
       "      <th>X2</th>\n",
       "      <th>X3</th>\n",
       "      <th>X4</th>\n",
       "      <th>X5</th>\n",
       "      <th>y</th>\n",
       "    </tr>\n",
       "  </thead>\n",
       "  <tbody>\n",
       "    <tr>\n",
       "      <th>0</th>\n",
       "      <td>7.317938</td>\n",
       "      <td>53.552216</td>\n",
       "      <td>0.864389</td>\n",
       "      <td>0.859736</td>\n",
       "      <td>114</td>\n",
       "      <td>50.552216</td>\n",
       "    </tr>\n",
       "    <tr>\n",
       "      <th>1</th>\n",
       "      <td>1.284357</td>\n",
       "      <td>1.649574</td>\n",
       "      <td>0.108686</td>\n",
       "      <td>0.959256</td>\n",
       "      <td>115</td>\n",
       "      <td>2.649574</td>\n",
       "    </tr>\n",
       "    <tr>\n",
       "      <th>2</th>\n",
       "      <td>97.740652</td>\n",
       "      <td>9553.235089</td>\n",
       "      <td>1.990075</td>\n",
       "      <td>-0.344100</td>\n",
       "      <td>116</td>\n",
       "      <td>9643.235089</td>\n",
       "    </tr>\n",
       "    <tr>\n",
       "      <th>3</th>\n",
       "      <td>17.753591</td>\n",
       "      <td>315.190006</td>\n",
       "      <td>1.249286</td>\n",
       "      <td>-0.889370</td>\n",
       "      <td>117</td>\n",
       "      <td>310.190006</td>\n",
       "    </tr>\n",
       "    <tr>\n",
       "      <th>4</th>\n",
       "      <td>66.441081</td>\n",
       "      <td>4414.417290</td>\n",
       "      <td>1.822437</td>\n",
       "      <td>-0.450777</td>\n",
       "      <td>118</td>\n",
       "      <td>4390.417290</td>\n",
       "    </tr>\n",
       "  </tbody>\n",
       "</table>\n",
       "</div>"
      ],
      "text/plain": [
       "           X           X2        X3        X4   X5            y\n",
       "0   7.317938    53.552216  0.864389  0.859736  114    50.552216\n",
       "1   1.284357     1.649574  0.108686  0.959256  115     2.649574\n",
       "2  97.740652  9553.235089  1.990075 -0.344100  116  9643.235089\n",
       "3  17.753591   315.190006  1.249286 -0.889370  117   310.190006\n",
       "4  66.441081  4414.417290  1.822437 -0.450777  118  4390.417290"
      ]
     },
     "execution_count": 165,
     "metadata": {},
     "output_type": "execute_result"
    }
   ],
   "source": [
    "df=pd.read_csv('regLinPoli.csv')\n",
    "df.head()\n"
   ]
  },
  {
   "cell_type": "code",
   "execution_count": 336,
   "metadata": {
    "collapsed": true
   },
   "outputs": [],
   "source": [
    "X=np.array(df.iloc[:,0:5]) \n",
    "y=np.array(df.iloc[:,5])"
   ]
  },
  {
   "cell_type": "code",
   "execution_count": 355,
   "metadata": {
    "collapsed": false
   },
   "outputs": [],
   "source": [
    "X_train,X_test,y_train,y_test=train_test_split(X,y,test_size=0.95,random_state=101)"
   ]
  },
  {
   "cell_type": "markdown",
   "metadata": {},
   "source": [
    "**estandarizacion**"
   ]
  },
  {
   "cell_type": "code",
   "execution_count": 356,
   "metadata": {
    "collapsed": false
   },
   "outputs": [],
   "source": [
    "scalerx = preprocessing.StandardScaler().fit(X_train)\n",
    "X_train=scalerx.transform(X_train)\n",
    "X_test=scalerx.transform(X_test)\n",
    "\n",
    "m=np.mean(y_train)\n",
    "sd=np.std(y_train)\n",
    "y_train=(y_train-m)/sd\n",
    "y_test=(y_test-m)/sd"
   ]
  },
  {
   "cell_type": "code",
   "execution_count": null,
   "metadata": {
    "collapsed": true
   },
   "outputs": [],
   "source": []
  },
  {
   "cell_type": "markdown",
   "metadata": {},
   "source": [
    "**funcion de estimación**"
   ]
  },
  {
   "cell_type": "code",
   "execution_count": 8,
   "metadata": {
    "collapsed": true
   },
   "outputs": [],
   "source": [
    "def salida(w0,w,X):\n",
    "    suma = w0\n",
    "    for i in range(len(w)):\n",
    "        suma = suma + w[i]*X[i]\n",
    "    return suma"
   ]
  },
  {
   "cell_type": "markdown",
   "metadata": {},
   "source": [
    "**regularización por renglón**    "
   ]
  },
  {
   "cell_type": "code",
   "execution_count": 9,
   "metadata": {
    "collapsed": true
   },
   "outputs": [],
   "source": [
    "def regularizado(w,x,y,lam,eta):\n",
    "\n",
    "    for i in range(len(x)):\n",
    "\n",
    "        sal = salida(w[0],w[1:len(w)],x[i])\n",
    "        #Calculo el error de prediccion        \n",
    "        error =y[i] - sal\n",
    "        # Obtengo el error w0\n",
    "        w[0] = w[0] + eta*error\n",
    "        \n",
    "    \n",
    "        for j in range(len(x.T)):\n",
    "            w[j+1] = w[j+1] + eta*error*X_train[i,j] - lam*w[j+1]\n",
    "        \n",
    "    return w"
   ]
  },
  {
   "cell_type": "markdown",
   "metadata": {},
   "source": [
    "**Error con $\\lambda=0$ y $\\eta=0.05$**"
   ]
  },
  {
   "cell_type": "code",
   "execution_count": 403,
   "metadata": {
    "collapsed": false
   },
   "outputs": [
    {
     "data": {
      "text/plain": [
       "0.021645066501152558"
      ]
     },
     "execution_count": 403,
     "metadata": {},
     "output_type": "execute_result"
    }
   ],
   "source": [
    "w=[rnd.random() for i in range(X_train.shape[1]+1)]\n",
    "ws=regularizado(w,X_train,y_train,0,0.05)\n",
    "np.mean((y_test - (ws[0]+np.dot(X_test,ws[1:len(ws)])))**2)"
   ]
  },
  {
   "cell_type": "markdown",
   "metadata": {},
   "source": [
    "**Error con $\\lambda=0.01$ y $\\eta=0.05$**"
   ]
  },
  {
   "cell_type": "code",
   "execution_count": 404,
   "metadata": {
    "collapsed": false
   },
   "outputs": [
    {
     "data": {
      "text/plain": [
       "0.0732881077427395"
      ]
     },
     "execution_count": 404,
     "metadata": {},
     "output_type": "execute_result"
    }
   ],
   "source": [
    "w=[rnd.random() for i in range(X_train.shape[1]+1)]\n",
    "ws=regularizado(w,X_train,y_train,0.01,0.05)\n",
    "np.mean((y_test - (ws[0]+np.dot(X_test,ws[1:len(ws)])))**2)"
   ]
  },
  {
   "cell_type": "code",
   "execution_count": null,
   "metadata": {
    "collapsed": false
   },
   "outputs": [],
   "source": []
  },
  {
   "cell_type": "code",
   "execution_count": 406,
   "metadata": {
    "collapsed": false
   },
   "outputs": [
    {
     "data": {
      "text/plain": [
       "<matplotlib.text.Text at 0x7f58f2715550>"
      ]
     },
     "execution_count": 406,
     "metadata": {},
     "output_type": "execute_result"
    },
    {
     "data": {
      "image/png": "[encoded data removed]",
      "text/plain": [
       "<matplotlib.figure.Figure at 0x7f58f2835d30>"
      ]
     },
     "metadata": {},
     "output_type": "display_data"
    }
   ],
   "source": [
    "import random as rnd\n",
    "lam = np.arange(-0.01,0.03,0.01)\n",
    "error_lambda = []\n",
    "\n",
    "for l in range(lam.size):\n",
    "    w= [rnd.random() for i in range(X_train.shape[1]+1)]\n",
    "\n",
    "    w =regularizado(w,X_train,y_train,lam[l],0.05)\n",
    "    error_lambda = error_lambda + [np.mean((y_test - (w[0]+ np.dot(X_test,w[1:len(w)])))**2)]\n",
    "    \n",
    "plt.plot(lam,error_lambda)\n",
    "plt.title('lambda vs. errores')"
   ]
  },
  {
   "cell_type": "markdown",
   "metadata": {},
   "source": [
    "# MINIBATCH"
   ]
  },
  {
   "cell_type": "markdown",
   "metadata": {},
   "source": [
    "**Calculamos las w's por bloques de datos y no por renglones**"
   ]
  },
  {
   "cell_type": "code",
   "execution_count": 43,
   "metadata": {
    "collapsed": true
   },
   "outputs": [],
   "source": [
    "def agregar_unos(m):\n",
    "    unos = np.array([np.ones(m.shape[0])])\n",
    "    return np.concatenate((unos.T,m),axis=1)"
   ]
  },
  {
   "cell_type": "markdown",
   "metadata": {},
   "source": [
    "**Regularización para 1 bloque de datos(Pudieran ser todos)**"
   ]
  },
  {
   "cell_type": "code",
   "execution_count": 44,
   "metadata": {
    "collapsed": true
   },
   "outputs": [],
   "source": [
    "def wreg(w,x,y,eta,lamb):\n",
    "    #w=np.ones(len(np.transpose(x))+1)\n",
    "    error=np.array([]) \n",
    "    w0=np.array([]) \n",
    "    w1=np.array([])\n",
    "    while (np.sum((y - np.dot(w,agregar_unos(x).T))))**2 > 0.01:\n",
    "        error=np.append(error,(np.sum((y - np.dot(w,agregar_unos(x).T))))**2) \n",
    "        w0=np.append(w0,w[0]) \n",
    "        w1=np.append(w1,w[1])\n",
    "        #print(w[0],w[1])\n",
    "        res=y-np.dot(w,agregar_unos(x).T) \n",
    "        w[0]= w[0] + (eta * np.sum(res)/len(y)) \n",
    "        for i in (range(len(x.T))):\n",
    "            w[i+1]=w[i+1]+eta*np.sum(res*agregar_unos(x)[:,i+1])/len(y)-lamb*w[i+1]\n",
    "        error2=np.mean((np.dot(w,agregar_unos(x).T) - y_train)**2)\n",
    "    return w,error2\n",
    "\n",
    "#w,error2=wreg(X_train,y_train,0.05,0) "
   ]
  },
  {
   "cell_type": "code",
   "execution_count": null,
   "metadata": {
    "collapsed": false
   },
   "outputs": [],
   "source": []
  },
  {
   "cell_type": "code",
   "execution_count": null,
   "metadata": {
    "collapsed": true
   },
   "outputs": [],
   "source": []
  },
  {
   "cell_type": "code",
   "execution_count": null,
   "metadata": {
    "collapsed": false
   },
   "outputs": [],
   "source": []
  },
  {
   "cell_type": "markdown",
   "metadata": {},
   "source": [
    "**Para $\\lambda=0$**"
   ]
  },
  {
   "cell_type": "code",
   "execution_count": 416,
   "metadata": {
    "collapsed": false
   },
   "outputs": [
    {
     "name": "stdout",
     "output_type": "stream",
     "text": [
      "[0.0019525560643993457, 0.28657684330307481, 0.59352936003882928, 0.11188614748424267, 0.024347631946547561, 0.037193819956426295] 0.0236125150989\n"
     ]
    },
    {
     "data": {
      "text/plain": [
       "0.029850280573390342"
      ]
     },
     "execution_count": 416,
     "metadata": {},
     "output_type": "execute_result"
    }
   ],
   "source": [
    "w=[rnd.random() for i in range(X_train.shape[1]+1)]\n",
    "w,error=wreg(w,X_train,y_train,0.05,0) \n",
    "print(w,error)\n",
    "np.mean((np.dot(w,agregar_unos(X_test).T) - y_test)**2)"
   ]
  },
  {
   "cell_type": "code",
   "execution_count": null,
   "metadata": {
    "collapsed": true
   },
   "outputs": [],
   "source": []
  },
  {
   "cell_type": "markdown",
   "metadata": {},
   "source": [
    "**Para $\\lambda=0.01$**"
   ]
  },
  {
   "cell_type": "code",
   "execution_count": 417,
   "metadata": {
    "collapsed": false
   },
   "outputs": [
    {
     "name": "stdout",
     "output_type": "stream",
     "text": [
      "[0.0019437790462334518, 0.37285788366172556, 0.48390161904912254, 0.060098397394792412, 0.012498848228228172, 0.029985076460840351] 0.0317670291215\n"
     ]
    },
    {
     "data": {
      "text/plain": [
       "0.044527035952713075"
      ]
     },
     "execution_count": 417,
     "metadata": {},
     "output_type": "execute_result"
    }
   ],
   "source": [
    "w=[rnd.random() for i in range(X_train.shape[1]+1)]\n",
    "w,error=wreg(w,X_train,y_train,0.05,0.01) \n",
    "print(w,error)\n",
    "np.mean((np.dot(w,agregar_unos(X_test).T) - y_test)**2)"
   ]
  },
  {
   "cell_type": "code",
   "execution_count": null,
   "metadata": {
    "collapsed": false
   },
   "outputs": [],
   "source": []
  },
  {
   "cell_type": "markdown",
   "metadata": {
    "collapsed": false
   },
   "source": [
    "\n",
    "# CON REGLINPOLI2"
   ]
  },
  {
   "cell_type": "code",
   "execution_count": 4,
   "metadata": {
    "collapsed": false
   },
   "outputs": [
    {
     "data": {
      "text/html": [
       "<div>\n",
       "<table border=\"1\" class=\"dataframe\">\n",
       "  <thead>\n",
       "    <tr style=\"text-align: right;\">\n",
       "      <th></th>\n",
       "      <th>X1</th>\n",
       "      <th>X2</th>\n",
       "      <th>X3</th>\n",
       "      <th>X4</th>\n",
       "      <th>X5</th>\n",
       "      <th>X6</th>\n",
       "      <th>X7</th>\n",
       "      <th>X8</th>\n",
       "      <th>X9</th>\n",
       "      <th>X10</th>\n",
       "      <th>...</th>\n",
       "      <th>X30</th>\n",
       "      <th>X31</th>\n",
       "      <th>X32</th>\n",
       "      <th>X33</th>\n",
       "      <th>X34</th>\n",
       "      <th>X35</th>\n",
       "      <th>X36</th>\n",
       "      <th>X37</th>\n",
       "      <th>X38</th>\n",
       "      <th>y</th>\n",
       "    </tr>\n",
       "  </thead>\n",
       "  <tbody>\n",
       "    <tr>\n",
       "      <th>0</th>\n",
       "      <td>153.782162</td>\n",
       "      <td>23648.953370</td>\n",
       "      <td>2.186906</td>\n",
       "      <td>0.155247</td>\n",
       "      <td>16</td>\n",
       "      <td>-153.782162</td>\n",
       "      <td>-23648.95337</td>\n",
       "      <td>-2.186906</td>\n",
       "      <td>-0.155247</td>\n",
       "      <td>-909.534012</td>\n",
       "      <td>...</td>\n",
       "      <td>272</td>\n",
       "      <td>-1856</td>\n",
       "      <td>1390</td>\n",
       "      <td>-4293</td>\n",
       "      <td>4171</td>\n",
       "      <td>-3493</td>\n",
       "      <td>-290</td>\n",
       "      <td>-1017</td>\n",
       "      <td>9</td>\n",
       "      <td>2.033960e+15</td>\n",
       "    </tr>\n",
       "    <tr>\n",
       "      <th>1</th>\n",
       "      <td>645.991251</td>\n",
       "      <td>417304.697100</td>\n",
       "      <td>2.810227</td>\n",
       "      <td>-0.923396</td>\n",
       "      <td>35</td>\n",
       "      <td>-153.782162</td>\n",
       "      <td>-23648.95337</td>\n",
       "      <td>-2.810227</td>\n",
       "      <td>0.923396</td>\n",
       "      <td>343.752475</td>\n",
       "      <td>...</td>\n",
       "      <td>-265</td>\n",
       "      <td>-3587</td>\n",
       "      <td>-2479</td>\n",
       "      <td>-1284</td>\n",
       "      <td>-2127</td>\n",
       "      <td>2369</td>\n",
       "      <td>2657</td>\n",
       "      <td>-1481</td>\n",
       "      <td>-150</td>\n",
       "      <td>4.694470e+19</td>\n",
       "    </tr>\n",
       "    <tr>\n",
       "      <th>2</th>\n",
       "      <td>-412.060457</td>\n",
       "      <td>169793.820200</td>\n",
       "      <td>2.614961</td>\n",
       "      <td>0.489764</td>\n",
       "      <td>-25</td>\n",
       "      <td>-153.782162</td>\n",
       "      <td>-23648.95337</td>\n",
       "      <td>-2.614961</td>\n",
       "      <td>-0.489764</td>\n",
       "      <td>-776.331121</td>\n",
       "      <td>...</td>\n",
       "      <td>9</td>\n",
       "      <td>4104</td>\n",
       "      <td>-4634</td>\n",
       "      <td>-1637</td>\n",
       "      <td>-4228</td>\n",
       "      <td>527</td>\n",
       "      <td>-1773</td>\n",
       "      <td>-1676</td>\n",
       "      <td>67</td>\n",
       "      <td>-2.017100e+18</td>\n",
       "    </tr>\n",
       "    <tr>\n",
       "      <th>3</th>\n",
       "      <td>35.884351</td>\n",
       "      <td>1287.686648</td>\n",
       "      <td>1.554905</td>\n",
       "      <td>-0.970388</td>\n",
       "      <td>-75</td>\n",
       "      <td>-153.782162</td>\n",
       "      <td>-23648.95337</td>\n",
       "      <td>-1.554905</td>\n",
       "      <td>0.970388</td>\n",
       "      <td>696.736200</td>\n",
       "      <td>...</td>\n",
       "      <td>-215</td>\n",
       "      <td>749</td>\n",
       "      <td>-3645</td>\n",
       "      <td>-3202</td>\n",
       "      <td>-1173</td>\n",
       "      <td>-3248</td>\n",
       "      <td>1888</td>\n",
       "      <td>1295</td>\n",
       "      <td>-49</td>\n",
       "      <td>7.629161e+10</td>\n",
       "    </tr>\n",
       "    <tr>\n",
       "      <th>4</th>\n",
       "      <td>-85.073496</td>\n",
       "      <td>7237.499779</td>\n",
       "      <td>1.929794</td>\n",
       "      <td>0.247883</td>\n",
       "      <td>44</td>\n",
       "      <td>-153.782162</td>\n",
       "      <td>-23648.95337</td>\n",
       "      <td>-1.929794</td>\n",
       "      <td>-0.247883</td>\n",
       "      <td>-527.805076</td>\n",
       "      <td>...</td>\n",
       "      <td>-360</td>\n",
       "      <td>2150</td>\n",
       "      <td>507</td>\n",
       "      <td>-1972</td>\n",
       "      <td>-7497</td>\n",
       "      <td>-2427</td>\n",
       "      <td>4368</td>\n",
       "      <td>670</td>\n",
       "      <td>43</td>\n",
       "      <td>-3.225260e+13</td>\n",
       "    </tr>\n",
       "  </tbody>\n",
       "</table>\n",
       "<p>5 rows × 39 columns</p>\n",
       "</div>"
      ],
      "text/plain": [
       "           X1             X2        X3        X4  X5          X6           X7  \\\n",
       "0  153.782162   23648.953370  2.186906  0.155247  16 -153.782162 -23648.95337   \n",
       "1  645.991251  417304.697100  2.810227 -0.923396  35 -153.782162 -23648.95337   \n",
       "2 -412.060457  169793.820200  2.614961  0.489764 -25 -153.782162 -23648.95337   \n",
       "3   35.884351    1287.686648  1.554905 -0.970388 -75 -153.782162 -23648.95337   \n",
       "4  -85.073496    7237.499779  1.929794  0.247883  44 -153.782162 -23648.95337   \n",
       "\n",
       "         X8        X9         X10      ...       X30   X31   X32   X33   X34  \\\n",
       "0 -2.186906 -0.155247 -909.534012      ...       272 -1856  1390 -4293  4171   \n",
       "1 -2.810227  0.923396  343.752475      ...      -265 -3587 -2479 -1284 -2127   \n",
       "2 -2.614961 -0.489764 -776.331121      ...         9  4104 -4634 -1637 -4228   \n",
       "3 -1.554905  0.970388  696.736200      ...      -215   749 -3645 -3202 -1173   \n",
       "4 -1.929794 -0.247883 -527.805076      ...      -360  2150   507 -1972 -7497   \n",
       "\n",
       "    X35   X36   X37  X38             y  \n",
       "0 -3493  -290 -1017    9  2.033960e+15  \n",
       "1  2369  2657 -1481 -150  4.694470e+19  \n",
       "2   527 -1773 -1676   67 -2.017100e+18  \n",
       "3 -3248  1888  1295  -49  7.629161e+10  \n",
       "4 -2427  4368   670   43 -3.225260e+13  \n",
       "\n",
       "[5 rows x 39 columns]"
      ]
     },
     "execution_count": 4,
     "metadata": {},
     "output_type": "execute_result"
    }
   ],
   "source": [
    "df=pd.read_csv('regLinPoli2.csv')\n",
    "df.head()"
   ]
  },
  {
   "cell_type": "code",
   "execution_count": 5,
   "metadata": {
    "collapsed": true
   },
   "outputs": [],
   "source": [
    "X=np.array(df.iloc[:,0:38]) \n",
    "y=np.array(df.iloc[:,38])"
   ]
  },
  {
   "cell_type": "code",
   "execution_count": 6,
   "metadata": {
    "collapsed": true
   },
   "outputs": [],
   "source": [
    "X_train,X_test,y_train,y_test=train_test_split(X,y,test_size=0.25,random_state=101)"
   ]
  },
  {
   "cell_type": "markdown",
   "metadata": {},
   "source": [
    "**ESTANDARIZACION**"
   ]
  },
  {
   "cell_type": "code",
   "execution_count": 7,
   "metadata": {
    "collapsed": true
   },
   "outputs": [],
   "source": [
    "scalerx = preprocessing.StandardScaler().fit(X_train)\n",
    "X_train=scalerx.transform(X_train)\n",
    "X_test=scalerx.transform(X_test)\n",
    "\n",
    "m=np.mean(y_train)\n",
    "sd=np.std(y_train)\n",
    "y_train=(y_train-m)/sd\n",
    "y_test=(y_test-m)/sd"
   ]
  },
  {
   "cell_type": "markdown",
   "metadata": {},
   "source": [
    "**USANDO LAS FUNCIONES CREADAS PARA EL PRIMER EJERCICIO**"
   ]
  },
  {
   "cell_type": "markdown",
   "metadata": {},
   "source": [
    "**Error con $\\lambda=0$ y $\\eta=0.05$**"
   ]
  },
  {
   "cell_type": "code",
   "execution_count": 35,
   "metadata": {
    "collapsed": false
   },
   "outputs": [
    {
     "data": {
      "text/plain": [
       "132.34172801446343"
      ]
     },
     "execution_count": 35,
     "metadata": {},
     "output_type": "execute_result"
    }
   ],
   "source": [
    "w=[rnd.random() for i in range(X_train.shape[1]+1)]\n",
    "ws=regularizado(w,X_train,y_train,0,0.05)\n",
    "np.mean((y_test - (ws[0]+np.dot(X_test,ws[1:len(ws)])))**2)"
   ]
  },
  {
   "cell_type": "markdown",
   "metadata": {},
   "source": [
    "**Error con $\\lambda=0.001$ y $\\eta=0.05$**"
   ]
  },
  {
   "cell_type": "code",
   "execution_count": 42,
   "metadata": {
    "collapsed": false
   },
   "outputs": [
    {
     "data": {
      "text/plain": [
       "89.403213858441035"
      ]
     },
     "execution_count": 42,
     "metadata": {},
     "output_type": "execute_result"
    }
   ],
   "source": [
    "w=[rnd.random() for i in range(X_train.shape[1]+1)]\n",
    "ws=regularizado(w,X_train,y_train,0.001,0.05)\n",
    "np.mean((y_test - (ws[0]+np.dot(X_test,ws[1:len(ws)])))**2)"
   ]
  },
  {
   "cell_type": "code",
   "execution_count": 40,
   "metadata": {
    "collapsed": false
   },
   "outputs": [
    {
     "data": {
      "text/plain": [
       "<matplotlib.text.Text at 0x7f1d97938208>"
      ]
     },
     "execution_count": 40,
     "metadata": {},
     "output_type": "execute_result"
    },
    {
     "data": {
      "image/png": "[encoded data removed]",
      "text/plain": [
       "<matplotlib.figure.Figure at 0x7f1d97bc5588>"
      ]
     },
     "metadata": {},
     "output_type": "display_data"
    }
   ],
   "source": [
    "import random as rnd\n",
    "lam = np.arange(-0.001,0.03,0.001)\n",
    "error_lambda = []\n",
    "\n",
    "for l in range(lam.size):\n",
    "    w= [rnd.random() for i in range(X_train.shape[1]+1)]\n",
    "\n",
    "    w =regularizado(w,X_train,y_train,lam[l],0.05)\n",
    "    error_lambda = error_lambda + [np.mean((y_test - (w[0]+ np.dot(X_test,w[1:len(w)])))**2)]\n",
    "    \n",
    "plt.plot(lam,error_lambda)\n",
    "plt.title('lambda vs. errores')"
   ]
  },
  {
   "cell_type": "markdown",
   "metadata": {},
   "source": [
    "**Minibatch reglinpoli2**"
   ]
  },
  {
   "cell_type": "markdown",
   "metadata": {},
   "source": [
    "**Para $\\lambda=0$**"
   ]
  },
  {
   "cell_type": "code",
   "execution_count": 49,
   "metadata": {
    "collapsed": false
   },
   "outputs": [
    {
     "name": "stdout",
     "output_type": "stream",
     "text": [
      "[0.48887674265723896, 0.72372687790570234, 0.14393499995232051, 0.53669542641484869, 0.66212106991523356, 0.05542034300420523, 0.18537175203083447, 0.67413740276744794, 0.70159775371964062, 0.66571206637981628, 0.075777930164030102, 0.09983256883257835, 0.091048677726800684, 0.099632450282372609, 0.003103244423346755, 0.015876433758617088, 0.0014039428668355346, 0.034327994244062403, -0.015579303816116639, -0.011665328936312554, 0.065864207250054013, 0.073593101119933405, 0.083474918372955439, 0.031465727868897772, 0.040774169650085235, 0.075951231698459978, -0.0068203873007359698, 0.0039782503088685861, 0.081768015838120087, -0.022238423094431716, -0.025192274245862654, 0.034522307394925456, 0.014923364356144801, 0.005269891005588799, 0.0016960072504690013, 0.078677658261271613, 0.016617286992041791, 0.019201602331830395, 0.034615026678124217] 0.532324120207\n",
      "error: 0.834355297929\n"
     ]
    }
   ],
   "source": [
    "w=[rnd.random() for i in range(X_train.shape[1]+1)]\n",
    "w,error=wreg(w,X_train,y_train,0.05,0) \n",
    "print(w,error)\n",
    "print('error:',np.mean((np.dot(w,agregar_unos(X_test).T) - y_test)**2))"
   ]
  },
  {
   "cell_type": "markdown",
   "metadata": {},
   "source": [
    "**Para $\\lambda=0.001$**"
   ]
  },
  {
   "cell_type": "code",
   "execution_count": 50,
   "metadata": {
    "collapsed": false
   },
   "outputs": [
    {
     "name": "stdout",
     "output_type": "stream",
     "text": [
      "[0.019538600418464541, 0.70258078024833703, -0.14316501332636056, 0.029778419842131365, 0.0073967213838495261, -0.023030508616196668, -0.0096006893742399055, 0.0098082313402763389, -0.02967960840475737, -0.0071894427472268393, 0.022146088487831429, 0.032265486559427778, 0.014424869791942359, 0.027887505405925349, 0.026310078435481384, -0.017625684268061326, -0.015816560948995365, -0.0079027085411127931, -0.0095539174636867386, -0.0085034619689738546, 0.0019681196341808285, 0.054602108698369282, -1.7346578404968882e-05, -0.0043748725683128153, 0.016758619691200335, 0.026504783370954497, -0.026628088240413045, -0.023177675106168163, -0.0062655938181696144, -0.027126013016010548, -0.053450130575225997, -0.00059695077058305598, -0.012322601357635136, 0.0062770540238313273, -0.050289621143949054, 0.030595577223254622, -0.010976308104736729, -0.013159070351502197, -0.0009478125268898935] 0.44474594983\n",
      "error: 0.727050964038\n"
     ]
    }
   ],
   "source": [
    "w=[rnd.random() for i in range(X_train.shape[1]+1)]\n",
    "w,error=wreg(w,X_train,y_train,0.05,0.001) \n",
    "print(w,error)\n",
    "print('error:',np.mean((np.dot(w,agregar_unos(X_test).T) - y_test)**2))"
   ]
  },
  {
   "cell_type": "code",
   "execution_count": null,
   "metadata": {
    "collapsed": true
   },
   "outputs": [],
   "source": []
  }
 ],
 "metadata": {
  "kernelspec": {
   "display_name": "Python 3",
   "language": "python",
   "name": "python3"
  },
  "language_info": {
   "codemirror_mode": {
    "name": "ipython",
    "version": 3
   },
   "file_extension": ".py",
   "mimetype": "text/x-python",
   "name": "python",
   "nbconvert_exporter": "python",
   "pygments_lexer": "ipython3",
   "version": "3.6.0"
  }
 },
 "nbformat": 4,
 "nbformat_minor": 2
}
