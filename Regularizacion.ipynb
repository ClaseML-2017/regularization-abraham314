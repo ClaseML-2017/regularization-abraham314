{
 "cells": [
  {
   "cell_type": "code",
   "execution_count": 164,
   "metadata": {
    "collapsed": false
   },
   "outputs": [],
   "source": [
    "import numpy as np\n",
    "import pandas as pd\n",
    "import random as rnd\n",
    "from sklearn.cross_validation import train_test_split\n",
    "from sklearn.metrics import confusion_matrix\n",
    "from sklearn import linear_model\n",
    "from scipy.stats import *\n",
    "from sklearn import preprocessing \n",
    "import matplotlib.pyplot as plt \n",
    "%matplotlib inline "
   ]
  },
  {
   "cell_type": "code",
   "execution_count": 165,
   "metadata": {
    "collapsed": false
   },
   "outputs": [
    {
     "data": {
      "text/html": [
       "<div>\n",
       "<table border=\"1\" class=\"dataframe\">\n",
       "  <thead>\n",
       "    <tr style=\"text-align: right;\">\n",
       "      <th></th>\n",
       "      <th>X</th>\n",
       "      <th>X2</th>\n",
       "      <th>X3</th>\n",
       "      <th>X4</th>\n",
       "      <th>X5</th>\n",
       "      <th>y</th>\n",
       "    </tr>\n",
       "  </thead>\n",
       "  <tbody>\n",
       "    <tr>\n",
       "      <th>0</th>\n",
       "      <td>7.317938</td>\n",
       "      <td>53.552216</td>\n",
       "      <td>0.864389</td>\n",
       "      <td>0.859736</td>\n",
       "      <td>114</td>\n",
       "      <td>50.552216</td>\n",
       "    </tr>\n",
       "    <tr>\n",
       "      <th>1</th>\n",
       "      <td>1.284357</td>\n",
       "      <td>1.649574</td>\n",
       "      <td>0.108686</td>\n",
       "      <td>0.959256</td>\n",
       "      <td>115</td>\n",
       "      <td>2.649574</td>\n",
       "    </tr>\n",
       "    <tr>\n",
       "      <th>2</th>\n",
       "      <td>97.740652</td>\n",
       "      <td>9553.235089</td>\n",
       "      <td>1.990075</td>\n",
       "      <td>-0.344100</td>\n",
       "      <td>116</td>\n",
       "      <td>9643.235089</td>\n",
       "    </tr>\n",
       "    <tr>\n",
       "      <th>3</th>\n",
       "      <td>17.753591</td>\n",
       "      <td>315.190006</td>\n",
       "      <td>1.249286</td>\n",
       "      <td>-0.889370</td>\n",
       "      <td>117</td>\n",
       "      <td>310.190006</td>\n",
       "    </tr>\n",
       "    <tr>\n",
       "      <th>4</th>\n",
       "      <td>66.441081</td>\n",
       "      <td>4414.417290</td>\n",
       "      <td>1.822437</td>\n",
       "      <td>-0.450777</td>\n",
       "      <td>118</td>\n",
       "      <td>4390.417290</td>\n",
       "    </tr>\n",
       "  </tbody>\n",
       "</table>\n",
       "</div>"
      ],
      "text/plain": [
       "           X           X2        X3        X4   X5            y\n",
       "0   7.317938    53.552216  0.864389  0.859736  114    50.552216\n",
       "1   1.284357     1.649574  0.108686  0.959256  115     2.649574\n",
       "2  97.740652  9553.235089  1.990075 -0.344100  116  9643.235089\n",
       "3  17.753591   315.190006  1.249286 -0.889370  117   310.190006\n",
       "4  66.441081  4414.417290  1.822437 -0.450777  118  4390.417290"
      ]
     },
     "execution_count": 165,
     "metadata": {},
     "output_type": "execute_result"
    }
   ],
   "source": [
    "df=pd.read_csv('regLinPoli.csv')\n",
    "df.head()\n"
   ]
  },
  {
   "cell_type": "code",
   "execution_count": 336,
   "metadata": {
    "collapsed": true
   },
   "outputs": [],
   "source": [
    "X=np.array(df.iloc[:,0:5]) \n",
    "y=np.array(df.iloc[:,5])"
   ]
  },
  {
   "cell_type": "code",
   "execution_count": 355,
   "metadata": {
    "collapsed": false
   },
   "outputs": [],
   "source": [
    "X_train,X_test,y_train,y_test=train_test_split(X,y,test_size=0.95,random_state=101)"
   ]
  },
  {
   "cell_type": "markdown",
   "metadata": {},
   "source": [
    "**estandarizacion**"
   ]
  },
  {
   "cell_type": "code",
   "execution_count": 356,
   "metadata": {
    "collapsed": false
   },
   "outputs": [],
   "source": [
    "scalerx = preprocessing.StandardScaler().fit(X_train)\n",
    "X_train=scalerx.transform(X_train)\n",
    "X_test=scalerx.transform(X_test)\n",
    "\n",
    "m=np.mean(y_train)\n",
    "sd=np.std(y_train)\n",
    "y_train=(y_train-m)/sd\n",
    "y_test=(y_test-m)/sd"
   ]
  },
  {
   "cell_type": "code",
   "execution_count": null,
   "metadata": {
    "collapsed": true
   },
   "outputs": [],
   "source": []
  },
  {
   "cell_type": "markdown",
   "metadata": {},
   "source": [
    "**funcion de estimación**"
   ]
  },
  {
   "cell_type": "code",
   "execution_count": 357,
   "metadata": {
    "collapsed": true
   },
   "outputs": [],
   "source": [
    "def salida(w0,w,X):\n",
    "    suma = w0\n",
    "    for i in range(len(w)):\n",
    "        suma = suma + w[i]*X[i]\n",
    "    return suma"
   ]
  },
  {
   "cell_type": "markdown",
   "metadata": {},
   "source": [
    "**regularización por renglón**    "
   ]
  },
  {
   "cell_type": "code",
   "execution_count": 358,
   "metadata": {
    "collapsed": true
   },
   "outputs": [],
   "source": [
    "def regularizado(w,x,y,lam,eta):\n",
    "\n",
    "    for i in range(len(x)):\n",
    "\n",
    "        sal = salida(w[0],w[1:len(w)],x[i])\n",
    "        #Calculo el error de prediccion        \n",
    "        error =y[i] - sal\n",
    "        # Obtengo el error w0\n",
    "        w[0] = w[0] + eta*error\n",
    "        \n",
    "    \n",
    "        for j in range(len(x.T)):\n",
    "            w[j+1] = w[j+1] + eta*error*X_train[i,j] - lam*w[j+1]\n",
    "        \n",
    "    return w"
   ]
  },
  {
   "cell_type": "markdown",
   "metadata": {},
   "source": [
    "**Error con $\\lambda=0$ y $\\eta=0.05$**"
   ]
  },
  {
   "cell_type": "code",
   "execution_count": 403,
   "metadata": {
    "collapsed": false
   },
   "outputs": [
    {
     "data": {
      "text/plain": [
       "0.021645066501152558"
      ]
     },
     "execution_count": 403,
     "metadata": {},
     "output_type": "execute_result"
    }
   ],
   "source": [
    "w=[rnd.random() for i in range(X_train.shape[1]+1)]\n",
    "ws=regularizado(w,X_train,y_train,0,0.05)\n",
    "np.mean((y_test - (ws[0]+np.dot(X_test,ws[1:len(ws)])))**2)"
   ]
  },
  {
   "cell_type": "markdown",
   "metadata": {},
   "source": [
    "**Error con $\\lambda=0.01$ y $\\eta=0.05$**"
   ]
  },
  {
   "cell_type": "code",
   "execution_count": 404,
   "metadata": {
    "collapsed": false
   },
   "outputs": [
    {
     "data": {
      "text/plain": [
       "0.0732881077427395"
      ]
     },
     "execution_count": 404,
     "metadata": {},
     "output_type": "execute_result"
    }
   ],
   "source": [
    "w=[rnd.random() for i in range(X_train.shape[1]+1)]\n",
    "ws=regularizado(w,X_train,y_train,0.01,0.05)\n",
    "np.mean((y_test - (ws[0]+np.dot(X_test,ws[1:len(ws)])))**2)"
   ]
  },
  {
   "cell_type": "code",
   "execution_count": null,
   "metadata": {
    "collapsed": false
   },
   "outputs": [],
   "source": []
  },
  {
   "cell_type": "code",
   "execution_count": 406,
   "metadata": {
    "collapsed": false
   },
   "outputs": [
    {
     "data": {
      "text/plain": [
       "<matplotlib.text.Text at 0x7f58f2715550>"
      ]
     },
     "execution_count": 406,
     "metadata": {},
     "output_type": "execute_result"
    },
    {
     "data": {
      "image/png": "[encoded data removed]",
      "text/plain": [
       "<matplotlib.figure.Figure at 0x7f58f2835d30>"
      ]
     },
     "metadata": {},
     "output_type": "display_data"
    }
   ],
   "source": [
    "import random as rnd\n",
    "lam = np.arange(-0.01,0.03,0.01)\n",
    "error_lambda = []\n",
    "\n",
    "for l in range(lam.size):\n",
    "    w= [rnd.random() for i in range(X_train.shape[1]+1)]\n",
    "\n",
    "    w =regularizado(w,X_train,y_train,lam[l],0.05)\n",
    "    error_lambda = error_lambda + [np.mean((y_test - (w[0]+ np.dot(X_test,w[1:len(w)])))**2)]\n",
    "    \n",
    "plt.plot(lam,error_lambda)\n",
    "plt.title('lambda vs. errores')"
   ]
  },
  {
   "cell_type": "markdown",
   "metadata": {},
   "source": [
    "# MINIBATCH"
   ]
  },
  {
   "cell_type": "markdown",
   "metadata": {},
   "source": [
    "**Calculamos las w's por bloques de datos y no por renglones**"
   ]
  },
  {
   "cell_type": "code",
   "execution_count": 407,
   "metadata": {
    "collapsed": true
   },
   "outputs": [],
   "source": [
    "def agregar_unos(m):\n",
    "    unos = np.array([np.ones(m.shape[0])])\n",
    "    return np.concatenate((unos.T,m),axis=1)"
   ]
  },
  {
   "cell_type": "markdown",
   "metadata": {},
   "source": [
    "**Regularización para 1 bloque de datos(Pudieran ser todos)**"
   ]
  },
  {
   "cell_type": "code",
   "execution_count": 408,
   "metadata": {
    "collapsed": true
   },
   "outputs": [],
   "source": [
    "def wreg(w,x,y,eta,lamb):\n",
    "    #w=np.ones(len(np.transpose(x))+1)\n",
    "    error=np.array([]) \n",
    "    w0=np.array([]) \n",
    "    w1=np.array([])\n",
    "    while (np.sum((y - np.dot(w,agregar_unos(x).T))))**2 > 0.01:\n",
    "        error=np.append(error,(np.sum((y - np.dot(w,agregar_unos(x).T))))**2) \n",
    "        w0=np.append(w0,w[0]) \n",
    "        w1=np.append(w1,w[1])\n",
    "        #print(w[0],w[1])\n",
    "        res=y-np.dot(w,agregar_unos(x).T) \n",
    "        w[0]= w[0] + (eta * np.sum(res)/len(y)) \n",
    "        for i in (range(len(x.T))):\n",
    "            w[i+1]=w[i+1]+eta*np.sum(res*agregar_unos(x)[:,i+1])/len(y)-lamb*w[i+1]\n",
    "        error2=np.mean((np.dot(w,agregar_unos(x).T) - y_train)**2)\n",
    "    return w,error2\n",
    "\n",
    "#w,error2=wreg(X_train,y_train,0.05,0) "
   ]
  },
  {
   "cell_type": "code",
   "execution_count": null,
   "metadata": {
    "collapsed": false
   },
   "outputs": [],
   "source": []
  },
  {
   "cell_type": "code",
   "execution_count": null,
   "metadata": {
    "collapsed": true
   },
   "outputs": [],
   "source": []
  },
  {
   "cell_type": "code",
   "execution_count": null,
   "metadata": {
    "collapsed": false
   },
   "outputs": [],
   "source": []
  },
  {
   "cell_type": "markdown",
   "metadata": {},
   "source": [
    "**Para $\\lambda=0$**"
   ]
  },
  {
   "cell_type": "code",
   "execution_count": 416,
   "metadata": {
    "collapsed": false
   },
   "outputs": [
    {
     "name": "stdout",
     "output_type": "stream",
     "text": [
      "[0.0019525560643993457, 0.28657684330307481, 0.59352936003882928, 0.11188614748424267, 0.024347631946547561, 0.037193819956426295] 0.0236125150989\n"
     ]
    },
    {
     "data": {
      "text/plain": [
       "0.029850280573390342"
      ]
     },
     "execution_count": 416,
     "metadata": {},
     "output_type": "execute_result"
    }
   ],
   "source": [
    "w=[rnd.random() for i in range(X_train.shape[1]+1)]\n",
    "w,error=wreg(w,X_train,y_train,0.05,0) \n",
    "print(w,error)\n",
    "np.mean((np.dot(w,agregar_unos(X_test).T) - y_test)**2)"
   ]
  },
  {
   "cell_type": "code",
   "execution_count": null,
   "metadata": {
    "collapsed": true
   },
   "outputs": [],
   "source": []
  },
  {
   "cell_type": "markdown",
   "metadata": {},
   "source": [
    "**Para $\\lambda=0.01$**"
   ]
  },
  {
   "cell_type": "code",
   "execution_count": 417,
   "metadata": {
    "collapsed": false
   },
   "outputs": [
    {
     "name": "stdout",
     "output_type": "stream",
     "text": [
      "[0.0019437790462334518, 0.37285788366172556, 0.48390161904912254, 0.060098397394792412, 0.012498848228228172, 0.029985076460840351] 0.0317670291215\n"
     ]
    },
    {
     "data": {
      "text/plain": [
       "0.044527035952713075"
      ]
     },
     "execution_count": 417,
     "metadata": {},
     "output_type": "execute_result"
    }
   ],
   "source": [
    "w=[rnd.random() for i in range(X_train.shape[1]+1)]\n",
    "w,error=wreg(w,X_train,y_train,0.05,0.01) \n",
    "print(w,error)\n",
    "np.mean((np.dot(w,agregar_unos(X_test).T) - y_test)**2)"
   ]
  },
  {
   "cell_type": "code",
   "execution_count": null,
   "metadata": {
    "collapsed": false
   },
   "outputs": [],
   "source": []
  },
  {
   "cell_type": "code",
   "execution_count": null,
   "metadata": {
    "collapsed": false
   },
   "outputs": [],
   "source": []
  },
  {
   "cell_type": "code",
   "execution_count": null,
   "metadata": {
    "collapsed": true
   },
   "outputs": [],
   "source": []
  }
 ],
 "metadata": {
  "kernelspec": {
   "display_name": "Python 3",
   "language": "python",
   "name": "python3"
  },
  "language_info": {
   "codemirror_mode": {
    "name": "ipython",
    "version": 3
   },
   "file_extension": ".py",
   "mimetype": "text/x-python",
   "name": "python",
   "nbconvert_exporter": "python",
   "pygments_lexer": "ipython3",
   "version": "3.6.0"
  }
 },
 "nbformat": 4,
 "nbformat_minor": 2
}
